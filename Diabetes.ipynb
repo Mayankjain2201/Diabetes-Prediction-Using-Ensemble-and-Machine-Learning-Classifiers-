{
 "cells": [
  {
   "cell_type": "code",
   "execution_count": 9,
   "id": "11d79206-08a4-4934-b6a4-16f799a8ce28",
   "metadata": {},
   "outputs": [],
   "source": [
    "import os\n",
    "import pandas as pd\n",
    "from sklearn.model_selection import train_test_split, GridSearchCV\n",
    "from sklearn.preprocessing import StandardScaler\n",
    "from sklearn.linear_model import LogisticRegression\n",
    "from sklearn.ensemble import RandomForestClassifier, AdaBoostClassifier, VotingClassifier\n",
    "from xgboost import XGBClassifier\n",
    "from sklearn.svm import SVC\n",
    "from sklearn.metrics import accuracy_score, classification_report\n",
    "from imblearn.over_sampling import SMOTE\n",
    "from sklearn.pipeline import Pipeline"
   ]
  },
  {
   "cell_type": "code",
   "execution_count": 10,
   "id": "ac43bace-6d3a-4aab-87fd-b163e2fab192",
   "metadata": {},
   "outputs": [],
   "source": [
    "data = pd.read_csv('D:\\\\ml\\\\Demo Datasets\\\\Lesson 9\\\\pima-indians-diabetes.csv')"
   ]
  },
  {
   "cell_type": "code",
   "execution_count": 11,
   "id": "fcbc0e26-60c1-4aa4-a319-5a79236113d8",
   "metadata": {},
   "outputs": [],
   "source": [
    "columns_to_replace = ['Glucose', 'BloodPressure', 'SkinThickness', 'Insulin', 'BMI']\n",
    "for column in columns_to_replace:\n",
    "    median_value = data[column].median()\n",
    "    data[column] = data[column].replace(0, median_value)"
   ]
  },
  {
   "cell_type": "code",
   "execution_count": 12,
   "id": "a69251e3-79ad-4600-9950-4a8979e72440",
   "metadata": {},
   "outputs": [],
   "source": [
    "X = data.drop('Outcome', axis=1)\n",
    "y = data['Outcome']\n",
    "\n",
    "# Split the data into training and testing sets\n",
    "X_train, X_test, y_train, y_test = train_test_split(X, y, test_size=0.2, random_state=42)\n",
    "\n",
    "# Standardize the features\n",
    "scaler = StandardScaler()\n",
    "X_train_scaled = scaler.fit_transform(X_train)\n",
    "X_test_scaled = scaler.transform(X_test)\n",
    "\n",
    "smote = SMOTE(random_state=42)\n",
    "X_train_resampled, y_train_resampled = smote.fit_resample(X_train_scaled, y_train)"
   ]
  },
  {
   "cell_type": "code",
   "execution_count": 13,
   "id": "70b7af64-29d9-4372-b33e-b3f5b9dca334",
   "metadata": {},
   "outputs": [
    {
     "name": "stdout",
     "output_type": "stream",
     "text": [
      "Fitting 5 folds for each of 7 candidates, totalling 35 fits\n",
      "LogisticRegression Accuracy: 0.6883116883116883\n",
      "              precision    recall  f1-score   support\n",
      "\n",
      "           0       0.80      0.69      0.74        99\n",
      "           1       0.55      0.69      0.61        55\n",
      "\n",
      "    accuracy                           0.69       154\n",
      "   macro avg       0.68      0.69      0.68       154\n",
      "weighted avg       0.71      0.69      0.69       154\n",
      "\n",
      "Fitting 5 folds for each of 16 candidates, totalling 80 fits\n",
      "RandomForestClassifier Accuracy: 0.7597402597402597\n",
      "              precision    recall  f1-score   support\n",
      "\n",
      "           0       0.87      0.74      0.80        99\n",
      "           1       0.63      0.80      0.70        55\n",
      "\n",
      "    accuracy                           0.76       154\n",
      "   macro avg       0.75      0.77      0.75       154\n",
      "weighted avg       0.78      0.76      0.76       154\n",
      "\n",
      "Fitting 5 folds for each of 16 candidates, totalling 80 fits\n"
     ]
    },
    {
     "name": "stderr",
     "output_type": "stream",
     "text": [
      "C:\\Users\\Doorstep\\anaconda3\\Lib\\site-packages\\sklearn\\ensemble\\_weight_boosting.py:527: FutureWarning: The SAMME.R algorithm (the default) is deprecated and will be removed in 1.6. Use the SAMME algorithm to circumvent this warning.\n",
      "  warnings.warn(\n"
     ]
    },
    {
     "name": "stdout",
     "output_type": "stream",
     "text": [
      "AdaBoostClassifier Accuracy: 0.7337662337662337\n",
      "              precision    recall  f1-score   support\n",
      "\n",
      "           0       0.85      0.72      0.78        99\n",
      "           1       0.60      0.76      0.67        55\n",
      "\n",
      "    accuracy                           0.73       154\n",
      "   macro avg       0.72      0.74      0.72       154\n",
      "weighted avg       0.76      0.73      0.74       154\n",
      "\n",
      "Fitting 5 folds for each of 108 candidates, totalling 540 fits\n",
      "XGBClassifier Accuracy: 0.7207792207792207\n",
      "              precision    recall  f1-score   support\n",
      "\n",
      "           0       0.84      0.70      0.76        99\n",
      "           1       0.58      0.76      0.66        55\n",
      "\n",
      "    accuracy                           0.72       154\n",
      "   macro avg       0.71      0.73      0.71       154\n",
      "weighted avg       0.75      0.72      0.73       154\n",
      "\n",
      "Fitting 5 folds for each of 24 candidates, totalling 120 fits\n",
      "SVC Accuracy: 0.6753246753246753\n",
      "              precision    recall  f1-score   support\n",
      "\n",
      "           0       0.77      0.71      0.74        99\n",
      "           1       0.54      0.62      0.58        55\n",
      "\n",
      "    accuracy                           0.68       154\n",
      "   macro avg       0.65      0.66      0.66       154\n",
      "weighted avg       0.69      0.68      0.68       154\n",
      "\n"
     ]
    }
   ],
   "source": [
    "def evaluate_model(model, param_grid):\n",
    "    grid_search = GridSearchCV(model, param_grid, cv=5, scoring='accuracy', n_jobs=-1, verbose=1)\n",
    "    grid_search.fit(X_train_resampled, y_train_resampled)\n",
    "    best_model = grid_search.best_estimator_\n",
    "    predictions = best_model.predict(X_test_scaled)\n",
    "    accuracy = accuracy_score(y_test, predictions)\n",
    "    print(f\"{best_model.__class__.__name__} Accuracy: {accuracy}\")\n",
    "    print(classification_report(y_test, predictions))\n",
    "    return best_model\n",
    "\n",
    "# Logistic Regression\n",
    "lr_param_grid = {'C': [0.001, 0.01, 0.1, 1, 10, 100, 1000]}\n",
    "best_lr_model = evaluate_model(LogisticRegression(random_state=42, solver='liblinear'), lr_param_grid)\n",
    "\n",
    "# Random Forest Classifier\n",
    "rf_param_grid = {'n_estimators': [50, 100, 200, 300], 'max_depth': [None, 3, 5, 7]}\n",
    "best_rf_model = evaluate_model(RandomForestClassifier(random_state=42), rf_param_grid)\n",
    "\n",
    "# AdaBoost Classifier\n",
    "ada_param_grid = {'n_estimators': [50, 100, 200, 300], 'learning_rate': [0.01, 0.1, 1, 2]}\n",
    "best_ada_model = evaluate_model(AdaBoostClassifier(random_state=42, algorithm='SAMME'), ada_param_grid)\n",
    "\n",
    "# XGBoost Classifier\n",
    "xgb_param_grid = {'n_estimators': [50, 100, 200], 'learning_rate': [0.01, 0.1, 0.2], 'max_depth': [3, 5, 7, 9], 'subsample': [0.6, 0.8, 1]}\n",
    "best_xgb_model = evaluate_model(XGBClassifier(random_state=42, eval_metric='logloss'), xgb_param_grid)\n",
    "\n",
    "# Support Vector Machine\n",
    "svm_param_grid = {'C': [0.001, 0.01, 0.1, 1, 10, 100], 'gamma': ['scale', 'auto', 0.001, 0.01]}\n",
    "best_svm_model = evaluate_model(SVC(random_state=42), svm_param_grid)"
   ]
  },
  {
   "cell_type": "code",
   "execution_count": 14,
   "id": "74ae07ff-eee4-461b-a562-f7bc3306ca46",
   "metadata": {},
   "outputs": [
    {
     "name": "stdout",
     "output_type": "stream",
     "text": [
      "Fitting 5 folds for each of 1 candidates, totalling 5 fits\n"
     ]
    },
    {
     "name": "stderr",
     "output_type": "stream",
     "text": [
      "C:\\Users\\Doorstep\\anaconda3\\Lib\\site-packages\\sklearn\\ensemble\\_weight_boosting.py:527: FutureWarning: The SAMME.R algorithm (the default) is deprecated and will be removed in 1.6. Use the SAMME algorithm to circumvent this warning.\n",
      "  warnings.warn(\n"
     ]
    },
    {
     "name": "stdout",
     "output_type": "stream",
     "text": [
      "VotingClassifier Accuracy: 0.7337662337662337\n",
      "              precision    recall  f1-score   support\n",
      "\n",
      "           0       0.85      0.72      0.78        99\n",
      "           1       0.60      0.76      0.67        55\n",
      "\n",
      "    accuracy                           0.73       154\n",
      "   macro avg       0.72      0.74      0.72       154\n",
      "weighted avg       0.76      0.73      0.74       154\n",
      "\n"
     ]
    }
   ],
   "source": [
    "voting_clf = VotingClassifier(estimators=[\n",
    "    ('lr', best_lr_model), \n",
    "    ('rf', best_rf_model), \n",
    "    ('ada', best_ada_model), \n",
    "    ('xgb', best_xgb_model), \n",
    "    ('svm', best_svm_model)\n",
    "], voting='hard')\n",
    "\n",
    "# Evaluate the voting classifier\n",
    "voting_param_grid = {}\n",
    "best_voting_model = evaluate_model(voting_clf, voting_param_grid)"
   ]
  },
  {
   "cell_type": "code",
   "execution_count": null,
   "id": "588e5a8e-ead6-4f98-8323-d0e84a422f5b",
   "metadata": {},
   "outputs": [],
   "source": []
  }
 ],
 "metadata": {
  "kernelspec": {
   "display_name": "Python 3 (ipykernel)",
   "language": "python",
   "name": "python3"
  },
  "language_info": {
   "codemirror_mode": {
    "name": "ipython",
    "version": 3
   },
   "file_extension": ".py",
   "mimetype": "text/x-python",
   "name": "python",
   "nbconvert_exporter": "python",
   "pygments_lexer": "ipython3",
   "version": "3.11.7"
  }
 },
 "nbformat": 4,
 "nbformat_minor": 5
}
